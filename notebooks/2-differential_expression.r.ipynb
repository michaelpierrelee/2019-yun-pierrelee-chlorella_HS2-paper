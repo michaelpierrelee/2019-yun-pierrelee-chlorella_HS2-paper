{
 "cells": [
  {
   "cell_type": "markdown",
   "metadata": {},
   "source": [
    "# (2) Differential expression analysis\n",
    "---\n",
    "Michaël Pierrelée, Aix Marseille Univ, CNRS, IBDM, UMR7288, FRANCE - michael.pierrelee@univ-amu.fr\n",
    "\n",
    "*Apache License 2.0*\n",
    "\n",
    "---\n",
    "\n",
    "Differential expression analysis is performed first using a standard DESeq2 workflow (DESeq normalization ([Anders 2010](https://doi.org/10.1186/gb-2010-11-10-r106)) -> GLM statistical test)  and second using SVCD normalization ([Roca 2017](https://doi.org/10.1038/srep42460)) followed by DESeq2 GLM test.\n",
    "\n",
    "Raw counts are rounded to the closest integer and the genes without one count across samples are filtered out.\n",
    "\n",
    "SVCD requires to exclude lowly expressed genes in order to calculate normalization factors from genes identified as non-varying by the algorithm. The count threshold is computed to remove 25% of genes with the lowest gene expression mean. For this dataset, it gave a cutoff at around 60 counts. As needed by SVCD, the filtered matrix is converted into log2-base before normalization and the offsets are then converted back into decimal base before to be assigned to the DESeqDataSet object.\n",
    "\n",
    "For pairwise comparisons, design matrix is made by grouping replicates from each condition into one individual group. To compute the interaction term, e.g. what is the difference between the dysregulations at the E and S phases, the design is `~medium + phase + medium:phase` by assuming that the medium is the first parameter explaining the variations.\n",
    "\n",
    "Finally, the exported results have the average SVCD-normalized counts between replicates for each condition.\n",
    "\n",
    "*NB: SVCD normalization does not return exact offsets, so the results are sligty different at each run. To avoid any problem, the result export is commented.*\n",
    "\n",
    "## Input\n",
    "* `data/Trinity_genes.gene.counts.matrix`: raw counts from read quantification per gene by RSEM.\n",
    "* `data/sample_files.tsv`: description of the experimental design.\n",
    "\n",
    "## Output\n",
    "\n",
    "Results from DESeq2 (within `data/dea_results`):\n",
    "* `deseq-ME_vs_FE.csv` and `deseq-MS_vs_FS.csv`: samples from marine water M vs. fresh water F at exponential phase (E) and stationary phase (S) (resp.), using DESeq2 standard workflow;\n",
    "* `svcd-ME_vs_FE.csv` and `svcd-MS_vs_FS.csv`: same, using SVCD replacing DESeq2 normalization step;\n",
    "* `svcd-interaction_term.csv`: test if medium effect is different across phase, using SVCD workflow;\n",
    "* `svcd-normalized_counts.csv` and `svcd-mean_norm_counts.csv`: normalized counts and their means in each condition, from SVCD workflow;\n",
    "* `svcd-offsets.csv`: normalization factors from SVCD normalization step."
   ]
  },
  {
   "cell_type": "code",
   "execution_count": 1,
   "metadata": {},
   "outputs": [],
   "source": [
    "suppressMessages(library( \"DESeq2\" ))\n",
    "suppressMessages(library( \"cdnormbio\" ))\n",
    "library(\"BiocParallel\")\n",
    "register(MulticoreParam(16))"
   ]
  },
  {
   "cell_type": "markdown",
   "metadata": {},
   "source": [
    "## Data"
   ]
  },
  {
   "cell_type": "code",
   "execution_count": 2,
   "metadata": {},
   "outputs": [
    {
     "name": "stdout",
     "output_type": "stream",
     "text": [
      " [1] \"TN1610R1293.1\" \"TN1610R1293\"   \"TN1610R1294\"   \"TN1610R1295\"  \n",
      " [5] \"TN1610R1296\"   \"TN1610R1297\"   \"TN1610R1299.1\" \"TN1610R1299.2\"\n",
      " [9] \"TN1610R1299\"   \"TN1610R1301\"   \"TN1610R1302\"   \"TN1610R1303\"  \n",
      " [1] TN1610R1293-1 TN1610R1293   TN1610R1294   TN1610R1295   TN1610R1296  \n",
      " [6] TN1610R1297   TN1610R1299-1 TN1610R1299-2 TN1610R1299   TN1610R1301  \n",
      "[11] TN1610R1302   TN1610R1303  \n",
      "12 Levels: TN1610R1293 TN1610R1293-1 TN1610R1294 TN1610R1295 ... TN1610R1303\n",
      "[1] \"number of genes: 57640\"\n"
     ]
    }
   ],
   "source": [
    "# table of raw counts\n",
    "rawCounts = read.csv( \"../data/Trinity_genes.gene.counts.matrix\", header=T, row.names=1, sep = '\\t'  )\n",
    "print( colnames(rawCounts) )\n",
    "\n",
    "# sample files\n",
    "sample_files = read.csv( \"../data/sample_files.tsv\", header=F, sep = '\\t' )\n",
    "print( sample_files$V1 )\n",
    "\n",
    "# rename column names\n",
    "colnames( rawCounts ) = sample_files$V3\n",
    "\n",
    "# colData\n",
    "medium = sample_files$V4\n",
    "phase = sample_files$V5\n",
    "ind = paste( medium, phase, sep='' )\n",
    "\n",
    "chloInfoTable = data.frame( replicates = colnames( rawCounts ),\n",
    "                            ind = ind, medium = medium, phase = phase )\n",
    "\n",
    "print( paste('number of genes:', dim(rawCounts)[1]) )"
   ]
  },
  {
   "cell_type": "markdown",
   "metadata": {},
   "source": [
    "## Filter"
   ]
  },
  {
   "cell_type": "code",
   "execution_count": 3,
   "metadata": {},
   "outputs": [
    {
     "name": "stdout",
     "output_type": "stream",
     "text": [
      "[1] \"number of genes: 52770\"\n",
      "[1] \"number of filtered genes: 4870\"\n"
     ]
    }
   ],
   "source": [
    "# round\n",
    "chloCountTable = round( rawCounts, 0 )\n",
    "# remove integers with null expression\n",
    "chloCountTable = chloCountTable[ rowSums( chloCountTable ) > 1, ]\n",
    "# convert to integers\n",
    "chloCountTable = as.data.frame( lapply( chloCountTable, as.integer ), row.names = row.names(chloCountTable) )\n",
    "\n",
    "print( paste('number of genes:', dim(chloCountTable)[1]) )\n",
    "print( paste('number of filtered genes:', dim(rawCounts)[1] - dim(chloCountTable)[1]) )"
   ]
  },
  {
   "cell_type": "markdown",
   "metadata": {},
   "source": [
    "## DEA by DESeq2\n",
    "Normalization and statistical tests were both performed by DESeq2 using standard worflow."
   ]
  },
  {
   "cell_type": "code",
   "execution_count": 4,
   "metadata": {},
   "outputs": [],
   "source": [
    "# normalization\n",
    "dds = DESeqDataSetFromMatrix( countData = chloCountTable, colData = chloInfoTable, design = ~ind )\n",
    "dds = DESeq( dds, quiet = TRUE )\n",
    "\n",
    "# individual comparisons\n",
    "resE = results( dds, contrast = c( 'ind', 'ME', 'FE' ), parallel = TRUE )\n",
    "resS = results( dds, contrast = c( 'ind', 'MS', 'FS' ), parallel = TRUE )"
   ]
  },
  {
   "cell_type": "markdown",
   "metadata": {},
   "source": [
    "```R\n",
    "# export\n",
    "write.csv( resE, '../data/dea_results/deseq2-ME_vs_FE.csv' )\n",
    "write.csv( resS, '../data/dea_results/deseq2-MS_vs_FS.csv' )\n",
    "```"
   ]
  },
  {
   "cell_type": "markdown",
   "metadata": {},
   "source": [
    "## Normalization by SVCD and tests by DESeq2"
   ]
  },
  {
   "cell_type": "code",
   "execution_count": 5,
   "metadata": {},
   "outputs": [
    {
     "name": "stdout",
     "output_type": "stream",
     "text": [
      "[1] \"count threshold: 5.91666666666667\"\n"
     ]
    }
   ],
   "source": [
    "# raw data filtering\n",
    "cct = chloCountTable[ apply(chloCountTable, 1, FUN=min) >= 1 & rowMeans(chloCountTable) >= quantile(rowMeans(chloCountTable), .25), ]\n",
    "print( paste( 'count threshold:', quantile( rowMeans(chloCountTable), .25) ) )\n",
    "\n",
    "# normalization function\n",
    "res.svcd = normalize.svcd( as.matrix(log2( cct )), chloInfoTable$ind )\n",
    "offsets = res.svcd$offset\n",
    "\n",
    "# individual comparisons\n",
    "dds = DESeqDataSetFromMatrix( countData = chloCountTable, colData = chloInfoTable, design = ~ind )\n",
    "sizeFactors( dds ) = 2^offsets\n",
    "dds = DESeq( dds, quiet = TRUE )\n",
    "\n",
    "resE = results( dds, contrast = c( 'ind', 'ME', 'FE' ), parallel = TRUE )\n",
    "resS = results( dds, contrast = c( 'ind', 'MS', 'FS' ), parallel = TRUE )\n",
    "\n",
    "# interaction factor\n",
    "dds = DESeqDataSetFromMatrix( countData = chloCountTable, colData = chloInfoTable,\n",
    "                              design = ~medium + phase + medium:phase )\n",
    "sizeFactors( dds ) = 2^offsets\n",
    "dds = DESeq( dds, quiet = TRUE, parallel = TRUE )\n",
    "\n",
    "resIT = results(dds, name = 'mediumM.phaseS', parallel = TRUE )"
   ]
  },
  {
   "cell_type": "code",
   "execution_count": 6,
   "metadata": {},
   "outputs": [],
   "source": [
    "# mean of counts for each condition\n",
    "norm_counts = counts(dds, normalized=TRUE)\n",
    "mean_counts = list()\n",
    "for( cond in c('F.E', 'F.S', 'M.E', 'M.S') ){\n",
    "    # list the replicates\n",
    "    reps = paste( cond, c(1,2,3), sep='.')\n",
    "    # make the mean of counts\n",
    "    mean_counts[[cond]] = rowMeans( norm_counts[ , reps ] )\n",
    "}\n",
    "mean_counts = data.frame( mean_counts )"
   ]
  },
  {
   "cell_type": "markdown",
   "metadata": {},
   "source": [
    "```R\n",
    "# export\n",
    "write.csv( offsets, '../data/dea_results/svcd-offsets.csv' )\n",
    "write.csv( resE, '../data/dea_results/svcd-ME_vs_FE.csv' )\n",
    "write.csv( resS, '../data/dea_results/svcd-MS_vs_FS.csv' )\n",
    "write.csv( resIT, '../data/dea_results/svcd-interaction_term.csv' )\n",
    "write.csv( norm_counts, '../data/dea_results/svcd-normalized_counts.csv' )\n",
    "write.csv( mean_counts, '../data/dea_results/svcd-mean_norm_counts.csv' )\n",
    "```"
   ]
  }
 ],
 "metadata": {
  "kernelspec": {
   "display_name": "R [conda env:hs2_r_env]",
   "language": "R",
   "name": "conda-env-hs2_r_env-r"
  },
  "language_info": {
   "codemirror_mode": "r",
   "file_extension": ".r",
   "mimetype": "text/x-r-source",
   "name": "R",
   "pygments_lexer": "r",
   "version": "3.6.1"
  }
 },
 "nbformat": 4,
 "nbformat_minor": 4
}
