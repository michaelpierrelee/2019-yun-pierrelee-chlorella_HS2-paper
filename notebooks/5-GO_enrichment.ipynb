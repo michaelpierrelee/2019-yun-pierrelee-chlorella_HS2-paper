{
 "cells": [
  {
   "cell_type": "markdown",
   "metadata": {},
   "source": [
    "# (5) Functional enrichment of GO terms\n",
    "\n",
    "\n",
    "\n",
    "---\n",
    "Michaël Pierrelée, Aix Marseille Univ, CNRS, IBDM, UMR7288, FRANCE - michael.pierrelee@univ-amu.fr\n",
    "\n",
    "*Apache License 2.0*\n",
    "\n",
    "---\n",
    "\n",
    "Perform functional enrichment using GSEAPY for GO terms, a Python implementation of Gene Set Enrichment Analysis (GSEA).\n",
    "\n",
    "First, transcritps were aggregated for each gene by SuperTranscript. Gene sequences were aligned by BlastN on SwissProt database and GO-annotated on GOA using Blast2GO.\n",
    "\n",
    "Second, the ranked list was generated. The means of LFC E and S of genes, with FDR a lower than **1e-4**, related to duplicated KOs, were computed before to sum both LFCs in absolute value\n",
    "\n",
    "Third, a background gene set was built by taking all the genes from Blast2GO with at least one GO term, following Following to Powell (2014) [doi:10.1186/1471-2105-15-146](https://doi.org/10.1186/1471-2105-15-146). These genes were also annotated by the children of these GO terms (e.g. GO terms with broader definitions) using the tree of GO terms generated from the OBO file (downloadable from http://release.geneontology.org/2019-10-07/ontology/go-basic.obo). Reciprocally, each GO term was associated to a list of genes, giving the gene set used for enrichment. When two or more GO terms had an identical gene list, the terms were merged.\n",
    "\n",
    "Enrichment was performed by GSEAPY with the following parameters: seed at 0, 1000 permutations and minimum and maximum gene set size at 5 and 1000 resp.\n",
    "\n",
    "\n",
    "## Input\n",
    "\n",
    "* `data/dea_results/synthesis_deg_results.csv`: synthesis of DEA results with the mean of normalized counts, the LFCs and adjusted p-values of comparisons M vs. F at E and S and the interaction term values (LFC, padj and strength of variation in % and categorized into no significant, low, medium or strong variation).\n",
    "* `data/dea_results/svcd-mean_norm_counts.csv`: normalized counts and their means in each condition, from SVCD workflow.\n",
    "* `data/blast2go/blast2go_go_table.txt`: result tables of Blast2GO Blast and GO annotation.\n",
    "* `data/enrichment/gene_sets/go-basic_07OCT2019.obo`: file of GO terms such as a gene being annotated by a GO can also be annotated by the children of this GO.\n",
    "\n",
    "## Output\n",
    "\n",
    "* Raw results are with the folder `data/enrichment/results/go_background`.\n",
    "* `data/enrichment/go_enrichment.xlsx`: synthesis excel sheet of functional enrichment results for the GO terms.\n",
    "\n",
    "### Perform GSEA for GSEA software\n",
    "\n",
    "* `data/enrichment/go_scores.rnk`: ranked list of KOs used to enrich GO gene set.\n",
    "* `data/enrichment/gene_sets/go_background.gmx`: GO gene set from background of sequenced genes.\n",
    "\n",
    "### Temporary files\n",
    "\n",
    "* `data/temp/gsea_go.pkl`: results of GSEAPY for GO gene set."
   ]
  },
  {
   "cell_type": "code",
   "execution_count": 1,
   "metadata": {},
   "outputs": [],
   "source": [
    "import pandas as pd\n",
    "import numpy as np\n",
    "import pickle\n",
    "import networkx as nx\n",
    "\n",
    "import gseapy"
   ]
  },
  {
   "cell_type": "code",
   "execution_count": 2,
   "metadata": {},
   "outputs": [],
   "source": [
    "import sys\n",
    "from IPython.core.display import clear_output\n",
    "\n",
    "def progress(cnt, k, N):\n",
    "    \"\"\"display a progress bar in the cell\"\"\"\n",
    "    displayer = ['-', '\\\\', '|', '/']\n",
    "    x = str( round(100*(k+1)/N, 2) ) + '%\\t' + displayer[cnt]\n",
    "    clear_output()\n",
    "    sys.stdout.write(x)\n",
    "    sys.stdout.flush()\n",
    "    if cnt == 3: return 0\n",
    "    else: return cnt + 1"
   ]
  },
  {
   "cell_type": "code",
   "execution_count": 3,
   "metadata": {},
   "outputs": [],
   "source": [
    "dea_results = pd.read_csv( '../data/dea_results/synthesis_deg_results.csv', index_col=0 )\n",
    "mean_counts = pd.read_csv( '../data/dea_results/svcd-mean_norm_counts.csv', index_col=0 )\n",
    "b2g_results = pd.read_csv('../data/blast2go/blast2go_go_table.txt', sep='\\t')\n",
    "\n",
    "padj_thresh = 1e-4"
   ]
  },
  {
   "cell_type": "code",
   "execution_count": 4,
   "metadata": {},
   "outputs": [],
   "source": [
    "# keep only genes with counts\n",
    "b2g_mapped = b2g_results[ b2g_results['SeqName'].isin( mean_counts.index ) ]\n",
    "# count the number of GO annotations per sequence\n",
    "b2g_mapped = b2g_mapped[ b2g_mapped['Tags'] == '[BLASTED, MAPPED]' ]\n",
    "b2g_mapped = b2g_mapped.set_index('SeqName')['GO IDs']"
   ]
  },
  {
   "cell_type": "markdown",
   "metadata": {},
   "source": [
    "## Compute rank list for GO enrichment"
   ]
  },
  {
   "cell_type": "code",
   "execution_count": 5,
   "metadata": {},
   "outputs": [
    {
     "name": "stdout",
     "output_type": "stream",
     "text": [
      "number of genes: 5695\n",
      "score min - max: 0.483034297229254 - 60.4378998490307\n"
     ]
    }
   ],
   "source": [
    "go_scores = dea_results.copy()\n",
    "\n",
    "# keep LFC with padj lower than the threshold\n",
    "go_scores['LFC E'] = go_scores['LFC E'][ go_scores['padj E'] <= padj_thresh ]\n",
    "go_scores['LFC S'] = go_scores['LFC S'][ go_scores['padj S'] <= padj_thresh ]\n",
    "go_scores = go_scores[['LFC E', 'LFC S']].dropna(how='all')\n",
    "\n",
    "# cumulated absolute LFC\n",
    "go_scores = go_scores[['LFC E', 'LFC S']].abs().sum(axis=1)\n",
    "\n",
    "print( 'number of genes:', len( go_scores ) )\n",
    "print( 'score min - max:', go_scores.min(), '-', go_scores.max() )\n",
    "\n",
    "# create the ranked list\n",
    "to_write = '\\n'.join([ id + '\\t' + str( go_scores[id] )\n",
    "                       for id in go_scores.index ])"
   ]
  },
  {
   "cell_type": "code",
   "execution_count": 6,
   "metadata": {},
   "outputs": [],
   "source": [
    "with open( '../data/enrichment/go_scores.rnk', 'w') as f: f.write( to_write )"
   ]
  },
  {
   "cell_type": "markdown",
   "metadata": {},
   "source": [
    "## Build GO background list for enrichment\n",
    "Following to Powell, J. A. C. (2014). GO2MSIG, an automated GO based multi-species gene set generator for gene set enrichment analysis. BMC Bioinformatics, 15(1), 146. doi:10.1186/1471-2105-15-146"
   ]
  },
  {
   "cell_type": "markdown",
   "metadata": {},
   "source": [
    "### Get Blast2GO gene ontology mapping"
   ]
  },
  {
   "cell_type": "code",
   "execution_count": 7,
   "metadata": {},
   "outputs": [
    {
     "name": "stdout",
     "output_type": "stream",
     "text": [
      "100.0%\t|"
     ]
    }
   ],
   "source": [
    "goa = pd.DataFrame()\n",
    "\n",
    "mapped_gos = b2g_mapped.str.split('; ').to_dict().items()\n",
    "cnt, k, N = 0, 0, len(mapped_gos)\n",
    "for gene, gos in mapped_gos:\n",
    "    rows = pd.DataFrame([(g[0], g[2:]) for g in gos])\n",
    "    rows['entry'] = gene\n",
    "    goa = goa.append(rows)\n",
    "    # progress\n",
    "    cnt = progress(cnt, k, N)\n",
    "    k += 1\n",
    "    \n",
    "goa = goa.replace( {'F': 'molecular_function', 'P': 'biological_process', 'C': 'cellular_component'}\n",
    "                 ).rename( {0: 'namespace', 1: 'go'}, axis=1\n",
    "                 ).drop_duplicates(\n",
    "                 ).reset_index(drop=True)"
   ]
  },
  {
   "cell_type": "markdown",
   "metadata": {},
   "source": [
    "### Build tree of GOs from GO OBO file"
   ]
  },
  {
   "cell_type": "code",
   "execution_count": null,
   "metadata": {},
   "outputs": [
    {
     "name": "stdout",
     "output_type": "stream",
     "text": [
      "99.87%\t/"
     ]
    },
    {
     "name": "stderr",
     "output_type": "stream",
     "text": [
      "IOPub message rate exceeded.\n",
      "The notebook server will temporarily stop sending output\n",
      "to the client in order to avoid crashing it.\n",
      "To change this limit, set the config variable\n",
      "`--NotebookApp.iopub_msg_rate_limit`.\n",
      "\n",
      "Current values:\n",
      "NotebookApp.iopub_msg_rate_limit=1000.0 (msgs/sec)\n",
      "NotebookApp.rate_limit_window=3.0 (secs)\n",
      "\n"
     ]
    }
   ],
   "source": [
    "# load the GO database\n",
    "with open( '../data/enrichment/gene_sets/go-basic_07OCT2019.obo', 'r' ) as f:\n",
    "    lines = [line.rstrip() for line in f]\n",
    "\n",
    "# parse the data\n",
    "id = ''\n",
    "all_gos, cnt, k, N = {}, 0, 0, len(lines)\n",
    "for i, line in enumerate(lines):\n",
    "    if line == '[Term]':\n",
    "        id = lines[i+1].split('id: ')[1]\n",
    "        all_gos[id] = {}\n",
    "    elif id and line: \n",
    "        field = line.split(':')[0]\n",
    "        value = ':'.join(line.split(': ')[1:])\n",
    "        if field not in all_gos[id]: all_gos[id][ field ] = [ value ]\n",
    "        else: all_gos[id][ field ] += [ value ]\n",
    "    # progress\n",
    "    cnt = progress(cnt, k, N)\n",
    "    k += 1"
   ]
  },
  {
   "cell_type": "code",
   "execution_count": 9,
   "metadata": {},
   "outputs": [],
   "source": [
    "# create the tree of GOs; orientation GO1 (child) 'is_a' GO2 (parent) <=> GO1 -> GO2\n",
    "go_tree = nx.DiGraph()\n",
    "for i, go in enumerate(all_gos):\n",
    "    # don't consider obsolete GOs\n",
    "    not_obsolete = 'is_obsolete' not in all_gos[go] or all_gos[go]['is_obsolete'][0] != 'true'\n",
    "    # make a relation between two GOs based only on 'is_a' (only the namespaces don't have 'is_a')\n",
    "    if not_obsolete and 'is_a' in all_gos[go]:\n",
    "        for isa in all_gos[go]['is_a']: go_tree.add_edge( go, isa.split(' ! ')[0] )\n",
    "            \n",
    "# flatten the tree to have: GO id => all its children + itself\n",
    "go_flat = { go: nx.ancestors(go_tree, go) for go in go_tree }\n",
    "go_flat = { go: tuple( children | {go} ) for go, children in go_flat.items() }"
   ]
  },
  {
   "cell_type": "markdown",
   "metadata": {},
   "source": [
    "### Build background gene set"
   ]
  },
  {
   "cell_type": "code",
   "execution_count": 10,
   "metadata": {},
   "outputs": [
    {
     "name": "stdout",
     "output_type": "stream",
     "text": [
      "number of GOs without filtering: 11694\n",
      "number of GOs after filtering: 9269\n"
     ]
    }
   ],
   "source": [
    "# get the entries associated to a given GO\n",
    "association = { go: set( goa['entry'][goa['go'] == go].unique() )\n",
    "                for go in goa['go'].unique() }\n",
    "\n",
    "# complete with the entries from the children\n",
    "association = { go: list(association[go] | { childs_entry\n",
    "                                             for child in go_flat[go]\n",
    "                                             if child in association\n",
    "                                             for childs_entry in association[child] })\n",
    "                for go in association if go in go_flat }\n",
    "\n",
    "# search GOs having the same entries to remove duplicates and to avoid biases in enrichment\n",
    "identical = { go1: [ go2 for go2 in association if association[go1] == association[go2] ]\n",
    "              for go1 in association }\n",
    "identical = { k: v for k, v in identical.items() if len(v) > 1 }\n",
    "\n",
    "# create a common ontology and replace GOs with the same entries by a unique set\n",
    "print( 'number of GOs without filtering:', len(association) )\n",
    "for go in identical:\n",
    "    if identical[go]:\n",
    "        # common ontology (concatenated GO ids)\n",
    "        common_go = ';'.join( identical[go] )\n",
    "        association[ common_go ] = association[go]\n",
    "        for i in identical[go]:\n",
    "            del association[i] # remove the identical GOs\n",
    "            identical[i] = '' # update identical\n",
    "print( 'number of GOs after filtering:', len(association) )"
   ]
  },
  {
   "cell_type": "code",
   "execution_count": 11,
   "metadata": {},
   "outputs": [],
   "source": [
    "def prepareGeneSet(dict_of_kos):\n",
    "    \"\"\"convert a dictionnary of elements into a GSEA gene set matrix\"\"\"\n",
    "    keys = sorted( list(dict_of_kos.keys()) )\n",
    "    # header\n",
    "    to_write = '\\t'.join( [ element for element in keys  ] ) + '\\n'\n",
    "    to_write += '\\t'.join( [ 'na' for element in keys ] ) + '\\n'\n",
    "    # longuest list\n",
    "    N = max([ len(dict_of_kos[element]) for element in keys ])\n",
    "    # \"transpose\" the dictionary\n",
    "    k = 0\n",
    "    for i in range(N): # get the i-th element\n",
    "        for j, element in enumerate( keys ): # of the j-th list\n",
    "            if i < len( dict_of_kos[element] ): to_write += str(dict_of_kos[element][i])\n",
    "            if j < len( dict_of_kos ) - 1: to_write += '\\t'\n",
    "        if i < N - 1: to_write += '\\n'\n",
    "    return to_write\n",
    "\n",
    "with open('../data/enrichment/gene_sets/go_background.gmx', 'w') as f: f.write( prepareGeneSet(association) )"
   ]
  },
  {
   "cell_type": "markdown",
   "metadata": {},
   "source": [
    "## Run GSEAPY"
   ]
  },
  {
   "cell_type": "code",
   "execution_count": 12,
   "metadata": {},
   "outputs": [],
   "source": [
    "def run_gseapy( rnk, gmt, name ):\n",
    "    # run gseapy\n",
    "    results = gseapy.prerank( rnk, gmt, processes=10, seed=0, permutation_num=1000, min_size=5, max_size=1000,\n",
    "                              no_plot=True, outdir='../data/enrichment/results/' + name\n",
    "                   ).results\n",
    "    # parse results\n",
    "    cols = ['es', 'nes', 'pval', 'fdr', 'geneset_size', 'matched_size', 'genes']\n",
    "    res = { p: [ results[p][k] for k in results[p] if k in cols ] for p in results }\n",
    "    res = pd.DataFrame( res, index=cols ).T.sort_values( by='pval' ).sort_values( by='fdr' )\n",
    "    res['genes'] = res['genes'].str.replace(';', '; ')\n",
    "    res.columns = ['Enrichment score (ES)', 'Normalized enrichment score (NES)', 'p-value', 'FDR',\n",
    "                   'Gene set size', 'Size after restriction to ranked list', 'Elements from ranked list']\n",
    "    # keep positive results\n",
    "    return res[ res['Enrichment score (ES)'] > 0 ]"
   ]
  },
  {
   "cell_type": "code",
   "execution_count": 13,
   "metadata": {},
   "outputs": [],
   "source": [
    "res_go = run_gseapy( go_scores, association, 'go_background' )\n",
    "go_naming = lambda x: all_gos[x]['name'][0] + ' ' + x\n",
    "res_go = res_go.rename( { id:\n",
    "                         go_naming(id) if len(id.split(';')) == 1 else \n",
    "                         '; '.join([ go_naming(i) for i in id.split(';') ])\n",
    "                         for id in res_go.index } )\n",
    "\n",
    "res_go.to_pickle('../data/temp/gsea_go.pkl')"
   ]
  },
  {
   "cell_type": "code",
   "execution_count": 14,
   "metadata": {},
   "outputs": [],
   "source": [
    "res_go.to_pickle('../data/temp/gsea_go.pkl')\n",
    "res_go.to_excel('../data/enrichment/go_enrichment.xlsx')"
   ]
  }
 ],
 "metadata": {
  "kernelspec": {
   "display_name": "Python [conda env:hs2_python_env]",
   "language": "python",
   "name": "conda-env-hs2_python_env-py"
  },
  "language_info": {
   "codemirror_mode": {
    "name": "ipython",
    "version": 3
   },
   "file_extension": ".py",
   "mimetype": "text/x-python",
   "name": "python",
   "nbconvert_exporter": "python",
   "pygments_lexer": "ipython3",
   "version": "3.7.3"
  }
 },
 "nbformat": 4,
 "nbformat_minor": 4
}
